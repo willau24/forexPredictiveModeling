{
  "nbformat": 4,
  "nbformat_minor": 0,
  "metadata": {
    "colab": {
      "provenance": []
    },
    "kernelspec": {
      "name": "python3",
      "display_name": "Python 3"
    },
    "language_info": {
      "name": "python"
    }
  },
  "cells": [
    {
      "cell_type": "code",
      "source": [
        "pip install newsapi-python\n"
      ],
      "metadata": {
        "colab": {
          "base_uri": "https://localhost:8080/"
        },
        "id": "1iW7LsMLyq_9",
        "outputId": "596b4910-9709-453d-a29a-3a853cba1090"
      },
      "execution_count": 35,
      "outputs": [
        {
          "output_type": "stream",
          "name": "stdout",
          "text": [
            "Looking in indexes: https://pypi.org/simple, https://us-python.pkg.dev/colab-wheels/public/simple/\n",
            "Requirement already satisfied: newsapi-python in /usr/local/lib/python3.9/dist-packages (0.2.7)\n",
            "Requirement already satisfied: requests<3.0.0 in /usr/local/lib/python3.9/dist-packages (from newsapi-python) (2.27.1)\n",
            "Requirement already satisfied: certifi>=2017.4.17 in /usr/local/lib/python3.9/dist-packages (from requests<3.0.0->newsapi-python) (2022.12.7)\n",
            "Requirement already satisfied: urllib3<1.27,>=1.21.1 in /usr/local/lib/python3.9/dist-packages (from requests<3.0.0->newsapi-python) (1.26.15)\n",
            "Requirement already satisfied: charset-normalizer~=2.0.0 in /usr/local/lib/python3.9/dist-packages (from requests<3.0.0->newsapi-python) (2.0.12)\n",
            "Requirement already satisfied: idna<4,>=2.5 in /usr/local/lib/python3.9/dist-packages (from requests<3.0.0->newsapi-python) (3.4)\n"
          ]
        }
      ]
    },
    {
      "cell_type": "code",
      "execution_count": 47,
      "metadata": {
        "colab": {
          "base_uri": "https://localhost:8080/"
        },
        "id": "GSitpJEKyZ7P",
        "outputId": "76898782-888a-42ea-bdb7-ca2a794eb24c"
      },
      "outputs": [
        {
          "output_type": "stream",
          "name": "stdout",
          "text": [
            "Forex articles related to EUR to USD:\n",
            "Title: EUR/USD Forecast – Euro Rallies Towards Resistance\n",
            "Source: Yahoo Entertainment\n",
            "URL: https://finance.yahoo.com/news/eur-usd-forecast-euro-rallies-124216860.html\n",
            "Date: 2023-03-28T12:42:16Z\n",
            "\n",
            "--------------------------------------------------------------------------------\n",
            "{'EUR': [{'source': {'id': None, 'name': 'Yahoo Entertainment'}, 'author': 'Christopher Lewis', 'title': 'EUR/USD Forecast – Euro Rallies Towards Resistance', 'description': 'The Euro has rallied a bit against the US dollar during the trading session on Tuesday, as we continue to see a lot of choppiness in the Forex world.', 'url': 'https://finance.yahoo.com/news/eur-usd-forecast-euro-rallies-124216860.html', 'urlToImage': 'https://media.zenfs.com/en/fx_empire_176/fb6af035cfd6639d47aa7fd18cb9c611', 'publishedAt': '2023-03-28T12:42:16Z', 'content': 'EUR/USD Forecast Video for 29.03.23\\r\\nEuro vs US Dollar Technical Analysis\\r\\nThe Euro has rallied a bit against the US dollar during the trading session on Tuesday, as we see quite a bit of noise in th… [+1979 chars]'}], 'Euro': [], 'euro': [{'source': {'id': 'the-times-of-india', 'name': 'The Times of India'}, 'author': 'ET Online', 'title': \"India's forex reserves up $6.31 billion to $584.76 billion, at 9-month high\", 'description': 'Foreign Currency Assets increased by USD 4.740 billion to USD 514.431 billion. Expressed in dollar terms, the foreign currency assets include the effect of appreciation or depreciation of non-US units like the euro, pound and yen held in the foreign exchange …', 'url': 'https://economictimes.indiatimes.com/news/economy/indicators/indias-forex-reserves-rises-by-usd-6-3-billion-to-usd-584-755-billion/articleshow/99506278.cms', 'urlToImage': 'https://img.etimg.com/thumb/msid-99491631,width-1070,height-580,imgsize-60258,overlay-etmarkets/photo.jpg', 'publishedAt': '2023-04-14T11:35:47Z', 'content': \"India's forex reserves jumped by USD 6.3 billion to USD 584. 755 billion for the week ended April 7, the RBI said on Friday.In the last reporting week, the forex kitty snapped a two-week rising trend… [+1192 chars]\"}, {'source': {'id': 'the-times-of-india', 'name': 'The Times of India'}, 'author': 'ET Online', 'title': \"India's forex reserves rise by USD 6.3 billion to USD 584.76 billion\", 'description': 'Foreign Currency Assets increased by USD 4.740 billion to USD 514.431 billion. Expressed in dollar terms, the foreign currency assets include the effect of appreciation or depreciation of non-US units like the euro, pound and yen held in the foreign exchange …', 'url': 'https://economictimes.indiatimes.com/news/economy/indicators/indias-forex-reserves-rises-by-usd-6-3-billion-to-usd-584-755-billion/articleshow/99488480.cms', 'urlToImage': 'https://img.etimg.com/thumb/msid-99491631,width-1070,height-580,imgsize-60258,overlay-economictimes/photo.jpg', 'publishedAt': '2023-04-14T11:35:47Z', 'content': \"India's forex reserves jumped by USD 6.3 billion to USD 584. 755 billion for the week ended April 7, the RBI said on Friday.Foreign Currency Assets increased by USD 4.740 billion to USD 514.431 billi… [+1065 chars]\"}, {'source': {'id': None, 'name': 'Yahoo Entertainment'}, 'author': 'Gertrude Chavez-Dreyfuss', 'title': 'FOREX-US dollar flat to modestly higher as upbeat data backs May rate hike', 'description': '*  Upbeat euro zone data underpins euro  *  U.S. business activity rises  *  Dollar headed for first weekly gain in nearly two months  *  Focus on Fed...', 'url': 'https://finance.yahoo.com/news/forex-us-dollar-flat-modestly-193453932.html', 'urlToImage': 'https://s.yimg.com/ny/api/res/1.2/oQ3CIAsTUQe0.FE1g7JirQ--/YXBwaWQ9aGlnaGxhbmRlcjt3PTEyMDA7aD02NzA-/https://s.yimg.com/os/creatr-uploaded-images/2023-04/40f3f610-e07c-11ed-9fb2-e34001f43f12', 'publishedAt': '2023-04-21T19:34:53Z', 'content': '<ul><li>\\r\\n</li></ul>\\r\\n* Upbeat euro zone data underpins euro * U.S. business activity rises * Dollar headed for first weekly gain in nearly two months * Focus on Fed meeting in May; rate hike priced … [+4685 chars]'}], '€': []}\n",
            "Forex articles related to Euro to USD:\n",
            "--------------------------------------------------------------------------------\n",
            "{'EUR': [{'source': {'id': None, 'name': 'Yahoo Entertainment'}, 'author': 'Christopher Lewis', 'title': 'EUR/USD Forecast – Euro Rallies Towards Resistance', 'description': 'The Euro has rallied a bit against the US dollar during the trading session on Tuesday, as we continue to see a lot of choppiness in the Forex world.', 'url': 'https://finance.yahoo.com/news/eur-usd-forecast-euro-rallies-124216860.html', 'urlToImage': 'https://media.zenfs.com/en/fx_empire_176/fb6af035cfd6639d47aa7fd18cb9c611', 'publishedAt': '2023-03-28T12:42:16Z', 'content': 'EUR/USD Forecast Video for 29.03.23\\r\\nEuro vs US Dollar Technical Analysis\\r\\nThe Euro has rallied a bit against the US dollar during the trading session on Tuesday, as we see quite a bit of noise in th… [+1979 chars]'}], 'Euro': [], 'euro': [{'source': {'id': 'the-times-of-india', 'name': 'The Times of India'}, 'author': 'ET Online', 'title': \"India's forex reserves up $6.31 billion to $584.76 billion, at 9-month high\", 'description': 'Foreign Currency Assets increased by USD 4.740 billion to USD 514.431 billion. Expressed in dollar terms, the foreign currency assets include the effect of appreciation or depreciation of non-US units like the euro, pound and yen held in the foreign exchange …', 'url': 'https://economictimes.indiatimes.com/news/economy/indicators/indias-forex-reserves-rises-by-usd-6-3-billion-to-usd-584-755-billion/articleshow/99506278.cms', 'urlToImage': 'https://img.etimg.com/thumb/msid-99491631,width-1070,height-580,imgsize-60258,overlay-etmarkets/photo.jpg', 'publishedAt': '2023-04-14T11:35:47Z', 'content': \"India's forex reserves jumped by USD 6.3 billion to USD 584. 755 billion for the week ended April 7, the RBI said on Friday.In the last reporting week, the forex kitty snapped a two-week rising trend… [+1192 chars]\"}, {'source': {'id': 'the-times-of-india', 'name': 'The Times of India'}, 'author': 'ET Online', 'title': \"India's forex reserves rise by USD 6.3 billion to USD 584.76 billion\", 'description': 'Foreign Currency Assets increased by USD 4.740 billion to USD 514.431 billion. Expressed in dollar terms, the foreign currency assets include the effect of appreciation or depreciation of non-US units like the euro, pound and yen held in the foreign exchange …', 'url': 'https://economictimes.indiatimes.com/news/economy/indicators/indias-forex-reserves-rises-by-usd-6-3-billion-to-usd-584-755-billion/articleshow/99488480.cms', 'urlToImage': 'https://img.etimg.com/thumb/msid-99491631,width-1070,height-580,imgsize-60258,overlay-economictimes/photo.jpg', 'publishedAt': '2023-04-14T11:35:47Z', 'content': \"India's forex reserves jumped by USD 6.3 billion to USD 584. 755 billion for the week ended April 7, the RBI said on Friday.Foreign Currency Assets increased by USD 4.740 billion to USD 514.431 billi… [+1065 chars]\"}, {'source': {'id': None, 'name': 'Yahoo Entertainment'}, 'author': 'Gertrude Chavez-Dreyfuss', 'title': 'FOREX-US dollar flat to modestly higher as upbeat data backs May rate hike', 'description': '*  Upbeat euro zone data underpins euro  *  U.S. business activity rises  *  Dollar headed for first weekly gain in nearly two months  *  Focus on Fed...', 'url': 'https://finance.yahoo.com/news/forex-us-dollar-flat-modestly-193453932.html', 'urlToImage': 'https://s.yimg.com/ny/api/res/1.2/oQ3CIAsTUQe0.FE1g7JirQ--/YXBwaWQ9aGlnaGxhbmRlcjt3PTEyMDA7aD02NzA-/https://s.yimg.com/os/creatr-uploaded-images/2023-04/40f3f610-e07c-11ed-9fb2-e34001f43f12', 'publishedAt': '2023-04-21T19:34:53Z', 'content': '<ul><li>\\r\\n</li></ul>\\r\\n* Upbeat euro zone data underpins euro * U.S. business activity rises * Dollar headed for first weekly gain in nearly two months * Focus on Fed meeting in May; rate hike priced … [+4685 chars]'}], '€': []}\n",
            "Forex articles related to euro to USD:\n",
            "Title: India's forex reserves up $6.31 billion to $584.76 billion, at 9-month high\n",
            "Source: The Times of India\n",
            "URL: https://economictimes.indiatimes.com/news/economy/indicators/indias-forex-reserves-rises-by-usd-6-3-billion-to-usd-584-755-billion/articleshow/99506278.cms\n",
            "Date: 2023-04-14T11:35:47Z\n",
            "\n",
            "Title: India's forex reserves rise by USD 6.3 billion to USD 584.76 billion\n",
            "Source: The Times of India\n",
            "URL: https://economictimes.indiatimes.com/news/economy/indicators/indias-forex-reserves-rises-by-usd-6-3-billion-to-usd-584-755-billion/articleshow/99488480.cms\n",
            "Date: 2023-04-14T11:35:47Z\n",
            "\n",
            "Title: FOREX-US dollar flat to modestly higher as upbeat data backs May rate hike\n",
            "Source: Yahoo Entertainment\n",
            "URL: https://finance.yahoo.com/news/forex-us-dollar-flat-modestly-193453932.html\n",
            "Date: 2023-04-21T19:34:53Z\n",
            "\n",
            "--------------------------------------------------------------------------------\n",
            "{'EUR': [{'source': {'id': None, 'name': 'Yahoo Entertainment'}, 'author': 'Christopher Lewis', 'title': 'EUR/USD Forecast – Euro Rallies Towards Resistance', 'description': 'The Euro has rallied a bit against the US dollar during the trading session on Tuesday, as we continue to see a lot of choppiness in the Forex world.', 'url': 'https://finance.yahoo.com/news/eur-usd-forecast-euro-rallies-124216860.html', 'urlToImage': 'https://media.zenfs.com/en/fx_empire_176/fb6af035cfd6639d47aa7fd18cb9c611', 'publishedAt': '2023-03-28T12:42:16Z', 'content': 'EUR/USD Forecast Video for 29.03.23\\r\\nEuro vs US Dollar Technical Analysis\\r\\nThe Euro has rallied a bit against the US dollar during the trading session on Tuesday, as we see quite a bit of noise in th… [+1979 chars]'}], 'Euro': [], 'euro': [{'source': {'id': 'the-times-of-india', 'name': 'The Times of India'}, 'author': 'ET Online', 'title': \"India's forex reserves up $6.31 billion to $584.76 billion, at 9-month high\", 'description': 'Foreign Currency Assets increased by USD 4.740 billion to USD 514.431 billion. Expressed in dollar terms, the foreign currency assets include the effect of appreciation or depreciation of non-US units like the euro, pound and yen held in the foreign exchange …', 'url': 'https://economictimes.indiatimes.com/news/economy/indicators/indias-forex-reserves-rises-by-usd-6-3-billion-to-usd-584-755-billion/articleshow/99506278.cms', 'urlToImage': 'https://img.etimg.com/thumb/msid-99491631,width-1070,height-580,imgsize-60258,overlay-etmarkets/photo.jpg', 'publishedAt': '2023-04-14T11:35:47Z', 'content': \"India's forex reserves jumped by USD 6.3 billion to USD 584. 755 billion for the week ended April 7, the RBI said on Friday.In the last reporting week, the forex kitty snapped a two-week rising trend… [+1192 chars]\"}, {'source': {'id': 'the-times-of-india', 'name': 'The Times of India'}, 'author': 'ET Online', 'title': \"India's forex reserves rise by USD 6.3 billion to USD 584.76 billion\", 'description': 'Foreign Currency Assets increased by USD 4.740 billion to USD 514.431 billion. Expressed in dollar terms, the foreign currency assets include the effect of appreciation or depreciation of non-US units like the euro, pound and yen held in the foreign exchange …', 'url': 'https://economictimes.indiatimes.com/news/economy/indicators/indias-forex-reserves-rises-by-usd-6-3-billion-to-usd-584-755-billion/articleshow/99488480.cms', 'urlToImage': 'https://img.etimg.com/thumb/msid-99491631,width-1070,height-580,imgsize-60258,overlay-economictimes/photo.jpg', 'publishedAt': '2023-04-14T11:35:47Z', 'content': \"India's forex reserves jumped by USD 6.3 billion to USD 584. 755 billion for the week ended April 7, the RBI said on Friday.Foreign Currency Assets increased by USD 4.740 billion to USD 514.431 billi… [+1065 chars]\"}, {'source': {'id': None, 'name': 'Yahoo Entertainment'}, 'author': 'Gertrude Chavez-Dreyfuss', 'title': 'FOREX-US dollar flat to modestly higher as upbeat data backs May rate hike', 'description': '*  Upbeat euro zone data underpins euro  *  U.S. business activity rises  *  Dollar headed for first weekly gain in nearly two months  *  Focus on Fed...', 'url': 'https://finance.yahoo.com/news/forex-us-dollar-flat-modestly-193453932.html', 'urlToImage': 'https://s.yimg.com/ny/api/res/1.2/oQ3CIAsTUQe0.FE1g7JirQ--/YXBwaWQ9aGlnaGxhbmRlcjt3PTEyMDA7aD02NzA-/https://s.yimg.com/os/creatr-uploaded-images/2023-04/40f3f610-e07c-11ed-9fb2-e34001f43f12', 'publishedAt': '2023-04-21T19:34:53Z', 'content': '<ul><li>\\r\\n</li></ul>\\r\\n* Upbeat euro zone data underpins euro * U.S. business activity rises * Dollar headed for first weekly gain in nearly two months * Focus on Fed meeting in May; rate hike priced … [+4685 chars]'}], '€': []}\n",
            "Forex articles related to € to USD:\n",
            "--------------------------------------------------------------------------------\n",
            "{'EUR': [{'source': {'id': None, 'name': 'Yahoo Entertainment'}, 'author': 'Christopher Lewis', 'title': 'EUR/USD Forecast – Euro Rallies Towards Resistance', 'description': 'The Euro has rallied a bit against the US dollar during the trading session on Tuesday, as we continue to see a lot of choppiness in the Forex world.', 'url': 'https://finance.yahoo.com/news/eur-usd-forecast-euro-rallies-124216860.html', 'urlToImage': 'https://media.zenfs.com/en/fx_empire_176/fb6af035cfd6639d47aa7fd18cb9c611', 'publishedAt': '2023-03-28T12:42:16Z', 'content': 'EUR/USD Forecast Video for 29.03.23\\r\\nEuro vs US Dollar Technical Analysis\\r\\nThe Euro has rallied a bit against the US dollar during the trading session on Tuesday, as we see quite a bit of noise in th… [+1979 chars]'}], 'Euro': [], 'euro': [{'source': {'id': 'the-times-of-india', 'name': 'The Times of India'}, 'author': 'ET Online', 'title': \"India's forex reserves up $6.31 billion to $584.76 billion, at 9-month high\", 'description': 'Foreign Currency Assets increased by USD 4.740 billion to USD 514.431 billion. Expressed in dollar terms, the foreign currency assets include the effect of appreciation or depreciation of non-US units like the euro, pound and yen held in the foreign exchange …', 'url': 'https://economictimes.indiatimes.com/news/economy/indicators/indias-forex-reserves-rises-by-usd-6-3-billion-to-usd-584-755-billion/articleshow/99506278.cms', 'urlToImage': 'https://img.etimg.com/thumb/msid-99491631,width-1070,height-580,imgsize-60258,overlay-etmarkets/photo.jpg', 'publishedAt': '2023-04-14T11:35:47Z', 'content': \"India's forex reserves jumped by USD 6.3 billion to USD 584. 755 billion for the week ended April 7, the RBI said on Friday.In the last reporting week, the forex kitty snapped a two-week rising trend… [+1192 chars]\"}, {'source': {'id': 'the-times-of-india', 'name': 'The Times of India'}, 'author': 'ET Online', 'title': \"India's forex reserves rise by USD 6.3 billion to USD 584.76 billion\", 'description': 'Foreign Currency Assets increased by USD 4.740 billion to USD 514.431 billion. Expressed in dollar terms, the foreign currency assets include the effect of appreciation or depreciation of non-US units like the euro, pound and yen held in the foreign exchange …', 'url': 'https://economictimes.indiatimes.com/news/economy/indicators/indias-forex-reserves-rises-by-usd-6-3-billion-to-usd-584-755-billion/articleshow/99488480.cms', 'urlToImage': 'https://img.etimg.com/thumb/msid-99491631,width-1070,height-580,imgsize-60258,overlay-economictimes/photo.jpg', 'publishedAt': '2023-04-14T11:35:47Z', 'content': \"India's forex reserves jumped by USD 6.3 billion to USD 584. 755 billion for the week ended April 7, the RBI said on Friday.Foreign Currency Assets increased by USD 4.740 billion to USD 514.431 billi… [+1065 chars]\"}, {'source': {'id': None, 'name': 'Yahoo Entertainment'}, 'author': 'Gertrude Chavez-Dreyfuss', 'title': 'FOREX-US dollar flat to modestly higher as upbeat data backs May rate hike', 'description': '*  Upbeat euro zone data underpins euro  *  U.S. business activity rises  *  Dollar headed for first weekly gain in nearly two months  *  Focus on Fed...', 'url': 'https://finance.yahoo.com/news/forex-us-dollar-flat-modestly-193453932.html', 'urlToImage': 'https://s.yimg.com/ny/api/res/1.2/oQ3CIAsTUQe0.FE1g7JirQ--/YXBwaWQ9aGlnaGxhbmRlcjt3PTEyMDA7aD02NzA-/https://s.yimg.com/os/creatr-uploaded-images/2023-04/40f3f610-e07c-11ed-9fb2-e34001f43f12', 'publishedAt': '2023-04-21T19:34:53Z', 'content': '<ul><li>\\r\\n</li></ul>\\r\\n* Upbeat euro zone data underpins euro * U.S. business activity rises * Dollar headed for first weekly gain in nearly two months * Focus on Fed meeting in May; rate hike priced … [+4685 chars]'}], '€': []}\n",
            "\n",
            "\n",
            "\n",
            "Forex articles related to JPY to USD:\n",
            "--------------------------------------------------------------------------------\n",
            "{'JPY': [], 'Yen': [], 'yen': [{'source': {'id': 'the-times-of-india', 'name': 'The Times of India'}, 'author': 'ET Online', 'title': \"India's forex reserves up $6.31 billion to $584.76 billion, at 9-month high\", 'description': 'Foreign Currency Assets increased by USD 4.740 billion to USD 514.431 billion. Expressed in dollar terms, the foreign currency assets include the effect of appreciation or depreciation of non-US units like the euro, pound and yen held in the foreign exchange …', 'url': 'https://economictimes.indiatimes.com/news/economy/indicators/indias-forex-reserves-rises-by-usd-6-3-billion-to-usd-584-755-billion/articleshow/99506278.cms', 'urlToImage': 'https://img.etimg.com/thumb/msid-99491631,width-1070,height-580,imgsize-60258,overlay-etmarkets/photo.jpg', 'publishedAt': '2023-04-14T11:35:47Z', 'content': \"India's forex reserves jumped by USD 6.3 billion to USD 584. 755 billion for the week ended April 7, the RBI said on Friday.In the last reporting week, the forex kitty snapped a two-week rising trend… [+1192 chars]\"}, {'source': {'id': 'the-times-of-india', 'name': 'The Times of India'}, 'author': 'ET Online', 'title': \"India's forex reserves rise by USD 6.3 billion to USD 584.76 billion\", 'description': 'Foreign Currency Assets increased by USD 4.740 billion to USD 514.431 billion. Expressed in dollar terms, the foreign currency assets include the effect of appreciation or depreciation of non-US units like the euro, pound and yen held in the foreign exchange …', 'url': 'https://economictimes.indiatimes.com/news/economy/indicators/indias-forex-reserves-rises-by-usd-6-3-billion-to-usd-584-755-billion/articleshow/99488480.cms', 'urlToImage': 'https://img.etimg.com/thumb/msid-99491631,width-1070,height-580,imgsize-60258,overlay-economictimes/photo.jpg', 'publishedAt': '2023-04-14T11:35:47Z', 'content': \"India's forex reserves jumped by USD 6.3 billion to USD 584. 755 billion for the week ended April 7, the RBI said on Friday.Foreign Currency Assets increased by USD 4.740 billion to USD 514.431 billi… [+1065 chars]\"}], '¥': []}\n",
            "Forex articles related to Yen to USD:\n",
            "--------------------------------------------------------------------------------\n",
            "{'JPY': [], 'Yen': [], 'yen': [{'source': {'id': 'the-times-of-india', 'name': 'The Times of India'}, 'author': 'ET Online', 'title': \"India's forex reserves up $6.31 billion to $584.76 billion, at 9-month high\", 'description': 'Foreign Currency Assets increased by USD 4.740 billion to USD 514.431 billion. Expressed in dollar terms, the foreign currency assets include the effect of appreciation or depreciation of non-US units like the euro, pound and yen held in the foreign exchange …', 'url': 'https://economictimes.indiatimes.com/news/economy/indicators/indias-forex-reserves-rises-by-usd-6-3-billion-to-usd-584-755-billion/articleshow/99506278.cms', 'urlToImage': 'https://img.etimg.com/thumb/msid-99491631,width-1070,height-580,imgsize-60258,overlay-etmarkets/photo.jpg', 'publishedAt': '2023-04-14T11:35:47Z', 'content': \"India's forex reserves jumped by USD 6.3 billion to USD 584. 755 billion for the week ended April 7, the RBI said on Friday.In the last reporting week, the forex kitty snapped a two-week rising trend… [+1192 chars]\"}, {'source': {'id': 'the-times-of-india', 'name': 'The Times of India'}, 'author': 'ET Online', 'title': \"India's forex reserves rise by USD 6.3 billion to USD 584.76 billion\", 'description': 'Foreign Currency Assets increased by USD 4.740 billion to USD 514.431 billion. Expressed in dollar terms, the foreign currency assets include the effect of appreciation or depreciation of non-US units like the euro, pound and yen held in the foreign exchange …', 'url': 'https://economictimes.indiatimes.com/news/economy/indicators/indias-forex-reserves-rises-by-usd-6-3-billion-to-usd-584-755-billion/articleshow/99488480.cms', 'urlToImage': 'https://img.etimg.com/thumb/msid-99491631,width-1070,height-580,imgsize-60258,overlay-economictimes/photo.jpg', 'publishedAt': '2023-04-14T11:35:47Z', 'content': \"India's forex reserves jumped by USD 6.3 billion to USD 584. 755 billion for the week ended April 7, the RBI said on Friday.Foreign Currency Assets increased by USD 4.740 billion to USD 514.431 billi… [+1065 chars]\"}], '¥': []}\n",
            "Forex articles related to yen to USD:\n",
            "Title: India's forex reserves up $6.31 billion to $584.76 billion, at 9-month high\n",
            "Source: The Times of India\n",
            "URL: https://economictimes.indiatimes.com/news/economy/indicators/indias-forex-reserves-rises-by-usd-6-3-billion-to-usd-584-755-billion/articleshow/99506278.cms\n",
            "Date: 2023-04-14T11:35:47Z\n",
            "\n",
            "Title: India's forex reserves rise by USD 6.3 billion to USD 584.76 billion\n",
            "Source: The Times of India\n",
            "URL: https://economictimes.indiatimes.com/news/economy/indicators/indias-forex-reserves-rises-by-usd-6-3-billion-to-usd-584-755-billion/articleshow/99488480.cms\n",
            "Date: 2023-04-14T11:35:47Z\n",
            "\n",
            "--------------------------------------------------------------------------------\n",
            "{'JPY': [], 'Yen': [], 'yen': [{'source': {'id': 'the-times-of-india', 'name': 'The Times of India'}, 'author': 'ET Online', 'title': \"India's forex reserves up $6.31 billion to $584.76 billion, at 9-month high\", 'description': 'Foreign Currency Assets increased by USD 4.740 billion to USD 514.431 billion. Expressed in dollar terms, the foreign currency assets include the effect of appreciation or depreciation of non-US units like the euro, pound and yen held in the foreign exchange …', 'url': 'https://economictimes.indiatimes.com/news/economy/indicators/indias-forex-reserves-rises-by-usd-6-3-billion-to-usd-584-755-billion/articleshow/99506278.cms', 'urlToImage': 'https://img.etimg.com/thumb/msid-99491631,width-1070,height-580,imgsize-60258,overlay-etmarkets/photo.jpg', 'publishedAt': '2023-04-14T11:35:47Z', 'content': \"India's forex reserves jumped by USD 6.3 billion to USD 584. 755 billion for the week ended April 7, the RBI said on Friday.In the last reporting week, the forex kitty snapped a two-week rising trend… [+1192 chars]\"}, {'source': {'id': 'the-times-of-india', 'name': 'The Times of India'}, 'author': 'ET Online', 'title': \"India's forex reserves rise by USD 6.3 billion to USD 584.76 billion\", 'description': 'Foreign Currency Assets increased by USD 4.740 billion to USD 514.431 billion. Expressed in dollar terms, the foreign currency assets include the effect of appreciation or depreciation of non-US units like the euro, pound and yen held in the foreign exchange …', 'url': 'https://economictimes.indiatimes.com/news/economy/indicators/indias-forex-reserves-rises-by-usd-6-3-billion-to-usd-584-755-billion/articleshow/99488480.cms', 'urlToImage': 'https://img.etimg.com/thumb/msid-99491631,width-1070,height-580,imgsize-60258,overlay-economictimes/photo.jpg', 'publishedAt': '2023-04-14T11:35:47Z', 'content': \"India's forex reserves jumped by USD 6.3 billion to USD 584. 755 billion for the week ended April 7, the RBI said on Friday.Foreign Currency Assets increased by USD 4.740 billion to USD 514.431 billi… [+1065 chars]\"}], '¥': []}\n",
            "Forex articles related to ¥ to USD:\n",
            "--------------------------------------------------------------------------------\n",
            "{'JPY': [], 'Yen': [], 'yen': [{'source': {'id': 'the-times-of-india', 'name': 'The Times of India'}, 'author': 'ET Online', 'title': \"India's forex reserves up $6.31 billion to $584.76 billion, at 9-month high\", 'description': 'Foreign Currency Assets increased by USD 4.740 billion to USD 514.431 billion. Expressed in dollar terms, the foreign currency assets include the effect of appreciation or depreciation of non-US units like the euro, pound and yen held in the foreign exchange …', 'url': 'https://economictimes.indiatimes.com/news/economy/indicators/indias-forex-reserves-rises-by-usd-6-3-billion-to-usd-584-755-billion/articleshow/99506278.cms', 'urlToImage': 'https://img.etimg.com/thumb/msid-99491631,width-1070,height-580,imgsize-60258,overlay-etmarkets/photo.jpg', 'publishedAt': '2023-04-14T11:35:47Z', 'content': \"India's forex reserves jumped by USD 6.3 billion to USD 584. 755 billion for the week ended April 7, the RBI said on Friday.In the last reporting week, the forex kitty snapped a two-week rising trend… [+1192 chars]\"}, {'source': {'id': 'the-times-of-india', 'name': 'The Times of India'}, 'author': 'ET Online', 'title': \"India's forex reserves rise by USD 6.3 billion to USD 584.76 billion\", 'description': 'Foreign Currency Assets increased by USD 4.740 billion to USD 514.431 billion. Expressed in dollar terms, the foreign currency assets include the effect of appreciation or depreciation of non-US units like the euro, pound and yen held in the foreign exchange …', 'url': 'https://economictimes.indiatimes.com/news/economy/indicators/indias-forex-reserves-rises-by-usd-6-3-billion-to-usd-584-755-billion/articleshow/99488480.cms', 'urlToImage': 'https://img.etimg.com/thumb/msid-99491631,width-1070,height-580,imgsize-60258,overlay-economictimes/photo.jpg', 'publishedAt': '2023-04-14T11:35:47Z', 'content': \"India's forex reserves jumped by USD 6.3 billion to USD 584. 755 billion for the week ended April 7, the RBI said on Friday.Foreign Currency Assets increased by USD 4.740 billion to USD 514.431 billi… [+1065 chars]\"}], '¥': []}\n",
            "\n",
            "\n",
            "\n",
            "Forex articles related to GBP to USD:\n",
            "--------------------------------------------------------------------------------\n",
            "{'GBP': [], 'Pound': [], 'pound': [{'source': {'id': 'the-times-of-india', 'name': 'The Times of India'}, 'author': 'ET Online', 'title': \"India's forex reserves up $6.31 billion to $584.76 billion, at 9-month high\", 'description': 'Foreign Currency Assets increased by USD 4.740 billion to USD 514.431 billion. Expressed in dollar terms, the foreign currency assets include the effect of appreciation or depreciation of non-US units like the euro, pound and yen held in the foreign exchange …', 'url': 'https://economictimes.indiatimes.com/news/economy/indicators/indias-forex-reserves-rises-by-usd-6-3-billion-to-usd-584-755-billion/articleshow/99506278.cms', 'urlToImage': 'https://img.etimg.com/thumb/msid-99491631,width-1070,height-580,imgsize-60258,overlay-etmarkets/photo.jpg', 'publishedAt': '2023-04-14T11:35:47Z', 'content': \"India's forex reserves jumped by USD 6.3 billion to USD 584. 755 billion for the week ended April 7, the RBI said on Friday.In the last reporting week, the forex kitty snapped a two-week rising trend… [+1192 chars]\"}, {'source': {'id': 'the-times-of-india', 'name': 'The Times of India'}, 'author': 'ET Online', 'title': \"India's forex reserves rise by USD 6.3 billion to USD 584.76 billion\", 'description': 'Foreign Currency Assets increased by USD 4.740 billion to USD 514.431 billion. Expressed in dollar terms, the foreign currency assets include the effect of appreciation or depreciation of non-US units like the euro, pound and yen held in the foreign exchange …', 'url': 'https://economictimes.indiatimes.com/news/economy/indicators/indias-forex-reserves-rises-by-usd-6-3-billion-to-usd-584-755-billion/articleshow/99488480.cms', 'urlToImage': 'https://img.etimg.com/thumb/msid-99491631,width-1070,height-580,imgsize-60258,overlay-economictimes/photo.jpg', 'publishedAt': '2023-04-14T11:35:47Z', 'content': \"India's forex reserves jumped by USD 6.3 billion to USD 584. 755 billion for the week ended April 7, the RBI said on Friday.Foreign Currency Assets increased by USD 4.740 billion to USD 514.431 billi… [+1065 chars]\"}], '£': []}\n",
            "Forex articles related to Pound to USD:\n",
            "--------------------------------------------------------------------------------\n",
            "{'GBP': [], 'Pound': [], 'pound': [{'source': {'id': 'the-times-of-india', 'name': 'The Times of India'}, 'author': 'ET Online', 'title': \"India's forex reserves up $6.31 billion to $584.76 billion, at 9-month high\", 'description': 'Foreign Currency Assets increased by USD 4.740 billion to USD 514.431 billion. Expressed in dollar terms, the foreign currency assets include the effect of appreciation or depreciation of non-US units like the euro, pound and yen held in the foreign exchange …', 'url': 'https://economictimes.indiatimes.com/news/economy/indicators/indias-forex-reserves-rises-by-usd-6-3-billion-to-usd-584-755-billion/articleshow/99506278.cms', 'urlToImage': 'https://img.etimg.com/thumb/msid-99491631,width-1070,height-580,imgsize-60258,overlay-etmarkets/photo.jpg', 'publishedAt': '2023-04-14T11:35:47Z', 'content': \"India's forex reserves jumped by USD 6.3 billion to USD 584. 755 billion for the week ended April 7, the RBI said on Friday.In the last reporting week, the forex kitty snapped a two-week rising trend… [+1192 chars]\"}, {'source': {'id': 'the-times-of-india', 'name': 'The Times of India'}, 'author': 'ET Online', 'title': \"India's forex reserves rise by USD 6.3 billion to USD 584.76 billion\", 'description': 'Foreign Currency Assets increased by USD 4.740 billion to USD 514.431 billion. Expressed in dollar terms, the foreign currency assets include the effect of appreciation or depreciation of non-US units like the euro, pound and yen held in the foreign exchange …', 'url': 'https://economictimes.indiatimes.com/news/economy/indicators/indias-forex-reserves-rises-by-usd-6-3-billion-to-usd-584-755-billion/articleshow/99488480.cms', 'urlToImage': 'https://img.etimg.com/thumb/msid-99491631,width-1070,height-580,imgsize-60258,overlay-economictimes/photo.jpg', 'publishedAt': '2023-04-14T11:35:47Z', 'content': \"India's forex reserves jumped by USD 6.3 billion to USD 584. 755 billion for the week ended April 7, the RBI said on Friday.Foreign Currency Assets increased by USD 4.740 billion to USD 514.431 billi… [+1065 chars]\"}], '£': []}\n",
            "Forex articles related to pound to USD:\n",
            "Title: India's forex reserves up $6.31 billion to $584.76 billion, at 9-month high\n",
            "Source: The Times of India\n",
            "URL: https://economictimes.indiatimes.com/news/economy/indicators/indias-forex-reserves-rises-by-usd-6-3-billion-to-usd-584-755-billion/articleshow/99506278.cms\n",
            "Date: 2023-04-14T11:35:47Z\n",
            "\n",
            "Title: India's forex reserves rise by USD 6.3 billion to USD 584.76 billion\n",
            "Source: The Times of India\n",
            "URL: https://economictimes.indiatimes.com/news/economy/indicators/indias-forex-reserves-rises-by-usd-6-3-billion-to-usd-584-755-billion/articleshow/99488480.cms\n",
            "Date: 2023-04-14T11:35:47Z\n",
            "\n",
            "--------------------------------------------------------------------------------\n",
            "{'GBP': [], 'Pound': [], 'pound': [{'source': {'id': 'the-times-of-india', 'name': 'The Times of India'}, 'author': 'ET Online', 'title': \"India's forex reserves up $6.31 billion to $584.76 billion, at 9-month high\", 'description': 'Foreign Currency Assets increased by USD 4.740 billion to USD 514.431 billion. Expressed in dollar terms, the foreign currency assets include the effect of appreciation or depreciation of non-US units like the euro, pound and yen held in the foreign exchange …', 'url': 'https://economictimes.indiatimes.com/news/economy/indicators/indias-forex-reserves-rises-by-usd-6-3-billion-to-usd-584-755-billion/articleshow/99506278.cms', 'urlToImage': 'https://img.etimg.com/thumb/msid-99491631,width-1070,height-580,imgsize-60258,overlay-etmarkets/photo.jpg', 'publishedAt': '2023-04-14T11:35:47Z', 'content': \"India's forex reserves jumped by USD 6.3 billion to USD 584. 755 billion for the week ended April 7, the RBI said on Friday.In the last reporting week, the forex kitty snapped a two-week rising trend… [+1192 chars]\"}, {'source': {'id': 'the-times-of-india', 'name': 'The Times of India'}, 'author': 'ET Online', 'title': \"India's forex reserves rise by USD 6.3 billion to USD 584.76 billion\", 'description': 'Foreign Currency Assets increased by USD 4.740 billion to USD 514.431 billion. Expressed in dollar terms, the foreign currency assets include the effect of appreciation or depreciation of non-US units like the euro, pound and yen held in the foreign exchange …', 'url': 'https://economictimes.indiatimes.com/news/economy/indicators/indias-forex-reserves-rises-by-usd-6-3-billion-to-usd-584-755-billion/articleshow/99488480.cms', 'urlToImage': 'https://img.etimg.com/thumb/msid-99491631,width-1070,height-580,imgsize-60258,overlay-economictimes/photo.jpg', 'publishedAt': '2023-04-14T11:35:47Z', 'content': \"India's forex reserves jumped by USD 6.3 billion to USD 584. 755 billion for the week ended April 7, the RBI said on Friday.Foreign Currency Assets increased by USD 4.740 billion to USD 514.431 billi… [+1065 chars]\"}], '£': []}\n",
            "Forex articles related to £ to USD:\n",
            "--------------------------------------------------------------------------------\n",
            "{'GBP': [], 'Pound': [], 'pound': [{'source': {'id': 'the-times-of-india', 'name': 'The Times of India'}, 'author': 'ET Online', 'title': \"India's forex reserves up $6.31 billion to $584.76 billion, at 9-month high\", 'description': 'Foreign Currency Assets increased by USD 4.740 billion to USD 514.431 billion. Expressed in dollar terms, the foreign currency assets include the effect of appreciation or depreciation of non-US units like the euro, pound and yen held in the foreign exchange …', 'url': 'https://economictimes.indiatimes.com/news/economy/indicators/indias-forex-reserves-rises-by-usd-6-3-billion-to-usd-584-755-billion/articleshow/99506278.cms', 'urlToImage': 'https://img.etimg.com/thumb/msid-99491631,width-1070,height-580,imgsize-60258,overlay-etmarkets/photo.jpg', 'publishedAt': '2023-04-14T11:35:47Z', 'content': \"India's forex reserves jumped by USD 6.3 billion to USD 584. 755 billion for the week ended April 7, the RBI said on Friday.In the last reporting week, the forex kitty snapped a two-week rising trend… [+1192 chars]\"}, {'source': {'id': 'the-times-of-india', 'name': 'The Times of India'}, 'author': 'ET Online', 'title': \"India's forex reserves rise by USD 6.3 billion to USD 584.76 billion\", 'description': 'Foreign Currency Assets increased by USD 4.740 billion to USD 514.431 billion. Expressed in dollar terms, the foreign currency assets include the effect of appreciation or depreciation of non-US units like the euro, pound and yen held in the foreign exchange …', 'url': 'https://economictimes.indiatimes.com/news/economy/indicators/indias-forex-reserves-rises-by-usd-6-3-billion-to-usd-584-755-billion/articleshow/99488480.cms', 'urlToImage': 'https://img.etimg.com/thumb/msid-99491631,width-1070,height-580,imgsize-60258,overlay-economictimes/photo.jpg', 'publishedAt': '2023-04-14T11:35:47Z', 'content': \"India's forex reserves jumped by USD 6.3 billion to USD 584. 755 billion for the week ended April 7, the RBI said on Friday.Foreign Currency Assets increased by USD 4.740 billion to USD 514.431 billi… [+1065 chars]\"}], '£': []}\n",
            "\n",
            "\n",
            "\n",
            "Forex articles related to AUD to USD:\n",
            "--------------------------------------------------------------------------------\n",
            "{'AUD': [], 'Australian Dollar': [], 'australian dollar': [], 'A$': [], 'AU$': []}\n",
            "Forex articles related to Australian Dollar to USD:\n",
            "--------------------------------------------------------------------------------\n",
            "{'AUD': [], 'Australian Dollar': [], 'australian dollar': [], 'A$': [], 'AU$': []}\n",
            "Forex articles related to australian dollar to USD:\n",
            "--------------------------------------------------------------------------------\n",
            "{'AUD': [], 'Australian Dollar': [], 'australian dollar': [], 'A$': [], 'AU$': []}\n",
            "Forex articles related to A$ to USD:\n",
            "--------------------------------------------------------------------------------\n",
            "{'AUD': [], 'Australian Dollar': [], 'australian dollar': [], 'A$': [], 'AU$': []}\n",
            "Forex articles related to AU$ to USD:\n",
            "--------------------------------------------------------------------------------\n",
            "{'AUD': [], 'Australian Dollar': [], 'australian dollar': [], 'A$': [], 'AU$': []}\n",
            "\n",
            "\n",
            "\n",
            "Forex articles related to CAD to USD:\n",
            "--------------------------------------------------------------------------------\n",
            "{'CAD': [], 'Canadian Dollar': [], 'canadian dollar': [], 'Can$': [], 'C$': []}\n",
            "Forex articles related to Canadian Dollar to USD:\n",
            "--------------------------------------------------------------------------------\n",
            "{'CAD': [], 'Canadian Dollar': [], 'canadian dollar': [], 'Can$': [], 'C$': []}\n",
            "Forex articles related to canadian dollar to USD:\n",
            "--------------------------------------------------------------------------------\n",
            "{'CAD': [], 'Canadian Dollar': [], 'canadian dollar': [], 'Can$': [], 'C$': []}\n",
            "Forex articles related to Can$ to USD:\n",
            "--------------------------------------------------------------------------------\n",
            "{'CAD': [], 'Canadian Dollar': [], 'canadian dollar': [], 'Can$': [], 'C$': []}\n",
            "Forex articles related to C$ to USD:\n",
            "--------------------------------------------------------------------------------\n",
            "{'CAD': [], 'Canadian Dollar': [], 'canadian dollar': [], 'Can$': [], 'C$': []}\n",
            "\n",
            "\n",
            "\n"
          ]
        }
      ],
      "source": [
        "import requests\n",
        "from newsapi import NewsApiClient\n",
        "\n",
        "# Replace 'your_api_key_here' with your actual NewsAPI key\n",
        "api_key = '5adaa15dd0fe42b7bc567ddff65d3fe8'\n",
        "newsapi = NewsApiClient(api_key=api_key)\n",
        "\n",
        "EUR_forex_keywords = ['EUR', 'Euro', 'euro','€']\n",
        "JPY_forex_keywords = ['JPY', 'Yen', 'yen', '¥']\n",
        "GBP_forex_keywords = ['GBP', 'Pound', 'pound', '£']\n",
        "AUD_forex_keywords = ['AUD', 'Australian Dollar', 'australian dollar', 'A$', 'AU$']\n",
        "CAD_forex_keywords = ['CAD', 'Canadian Dollar', 'canadian dollar', 'Can$', 'C$']\n",
        "\n",
        "exchanges = [EUR_forex_keywords, JPY_forex_keywords, GBP_forex_keywords, AUD_forex_keywords, CAD_forex_keywords]\n",
        "\n",
        "targetEXCH = EUR_forex_keywords\n",
        "\n",
        "for exchange in exchanges:\n",
        "  forex_keywords = exchange\n",
        "\n",
        "  forex_related_news = {}\n",
        "\n",
        "  for keyword in forex_keywords:\n",
        "      forex_related_news[keyword] = []\n",
        "\n",
        "  # Fetch top headlines\n",
        "  top_headlines = newsapi.get_everything(q = 'forex', language='en', sort_by='relevancy', page_size=100)\n",
        "\n",
        "  # Filter and categorize forex-related articles\n",
        "  for article in top_headlines['articles']:\n",
        "      title = article['title'] if article['title'] else \"\"\n",
        "      description = article['description'] if article['description'] else \"\"\n",
        "      content = article['content'] if article['content'] else \"\"\n",
        "      date = article['publishedAt'] if article['publishedAt'] else \"\"\n",
        "\n",
        "      for keyword in forex_keywords:\n",
        "          if (keyword in title) or (keyword in description) or (keyword in content):\n",
        "              forex_related_news[keyword].append(article)\n",
        "              break\n",
        "\n",
        "  # Print categorized news articles\n",
        "  for keyword, articles in forex_related_news.items():\n",
        "      print(f\"Forex articles related to {keyword} to USD:\")\n",
        "      for article in articles:\n",
        "          print(f\"Title: {article['title']}\")\n",
        "          print(f\"Source: {article['source']['name']}\")\n",
        "          print(f\"URL: {article['url']}\")\n",
        "          print(f\"Date: {article['publishedAt']}\")\n",
        "          print()\n",
        "      print(\"-\" * 80)\n",
        "\n",
        "      print(forex_related_news)\n",
        "\n",
        "  print(f\"\\n\\n\")\n",
        "\n",
        " "
      ]
    },
    {
      "cell_type": "code",
      "source": [
        "import re\n",
        "import nltk\n",
        "from nltk.corpus import stopwords\n",
        "from nltk.tokenize import word_tokenize\n",
        "from nltk.stem import WordNetLemmatizer\n",
        "\n",
        "# Download required NLTK resources\n",
        "nltk.download('punkt')\n",
        "nltk.download('wordnet')\n",
        "nltk.download('stopwords')\n",
        "\n",
        "# Initialize the lemmatizer\n",
        "lemmatizer = WordNetLemmatizer()\n",
        "\n",
        "def clean_text(text):\n",
        "    # Remove URLs\n",
        "    text = re.sub(r'http\\S+|www\\S+|https\\S+', '', text, flags=re.MULTILINE)\n",
        "    \n",
        "    # Remove special characters and numbers\n",
        "    text = re.sub(r'\\W+|\\d+', ' ', text)\n",
        "    \n",
        "    # Remove underscores\n",
        "    text = re.sub(r'_', '', text)\n",
        "    \n",
        "    # Convert to lowercase\n",
        "    text = text.lower()\n",
        "    \n",
        "    return text\n",
        "\n",
        "def tokenize(text):\n",
        "    tokens = word_tokenize(text)\n",
        "    return tokens\n",
        "\n",
        "def remove_stopwords(tokens):\n",
        "    stop_words = set(stopwords.words('english'))\n",
        "    filtered_tokens = [token for token in tokens if token not in stop_words]\n",
        "    return filtered_tokens\n",
        "\n",
        "def lemmatize(tokens):\n",
        "    lemmatized_tokens = [lemmatizer.lemmatize(token) for token in tokens]\n",
        "    return lemmatized_tokens\n",
        "\n",
        "def preprocess_text(text):\n",
        "    text = clean_text(text)\n",
        "    tokens = tokenize(text)\n",
        "    tokens = remove_stopwords(tokens)\n",
        "    tokens = lemmatize(tokens)\n",
        "    return tokens\n",
        "\n"
      ],
      "metadata": {
        "colab": {
          "base_uri": "https://localhost:8080/"
        },
        "id": "0DTv9ARqzGnQ",
        "outputId": "392923e6-4461-4b64-a54c-7fd025db0844"
      },
      "execution_count": 48,
      "outputs": [
        {
          "output_type": "stream",
          "name": "stderr",
          "text": [
            "[nltk_data] Downloading package punkt to /root/nltk_data...\n",
            "[nltk_data]   Package punkt is already up-to-date!\n",
            "[nltk_data] Downloading package wordnet to /root/nltk_data...\n",
            "[nltk_data]   Package wordnet is already up-to-date!\n",
            "[nltk_data] Downloading package stopwords to /root/nltk_data...\n",
            "[nltk_data]   Package stopwords is already up-to-date!\n"
          ]
        }
      ]
    },
    {
      "cell_type": "code",
      "source": [
        "# Extract the texts from the news articles\n",
        "news_texts = [article['title'] + ' ' + article['description'] for articles in forex_related_news.values() for article in articles]\n",
        "\n",
        "# Preprocess the texts\n",
        "preprocessed_texts = [preprocess_text(text) for text in news_texts]\n",
        "\n",
        "# Print an example\n",
        "print(f'Original text: {news_texts[0]}')\n",
        "print(f'Preprocessed text: {preprocessed_texts[0]}')"
      ],
      "metadata": {
        "colab": {
          "base_uri": "https://localhost:8080/",
          "height": 222
        },
        "id": "Uk49zSH2zOzT",
        "outputId": "7dbe75fb-e4b7-43c6-9f4f-67a146b258fd"
      },
      "execution_count": 52,
      "outputs": [
        {
          "output_type": "error",
          "ename": "IndexError",
          "evalue": "ignored",
          "traceback": [
            "\u001b[0;31m---------------------------------------------------------------------------\u001b[0m",
            "\u001b[0;31mIndexError\u001b[0m                                Traceback (most recent call last)",
            "\u001b[0;32m<ipython-input-52-b767deef0f1e>\u001b[0m in \u001b[0;36m<cell line: 8>\u001b[0;34m()\u001b[0m\n\u001b[1;32m      6\u001b[0m \u001b[0;34m\u001b[0m\u001b[0m\n\u001b[1;32m      7\u001b[0m \u001b[0;31m# Print an example\u001b[0m\u001b[0;34m\u001b[0m\u001b[0;34m\u001b[0m\u001b[0m\n\u001b[0;32m----> 8\u001b[0;31m \u001b[0mprint\u001b[0m\u001b[0;34m(\u001b[0m\u001b[0;34mf'Original text: {news_texts[0]}'\u001b[0m\u001b[0;34m)\u001b[0m\u001b[0;34m\u001b[0m\u001b[0;34m\u001b[0m\u001b[0m\n\u001b[0m\u001b[1;32m      9\u001b[0m \u001b[0mprint\u001b[0m\u001b[0;34m(\u001b[0m\u001b[0;34mf'Preprocessed text: {preprocessed_texts[0]}'\u001b[0m\u001b[0;34m)\u001b[0m\u001b[0;34m\u001b[0m\u001b[0;34m\u001b[0m\u001b[0m\n",
            "\u001b[0;31mIndexError\u001b[0m: list index out of range"
          ]
        }
      ]
    },
    {
      "cell_type": "code",
      "source": [
        "from sklearn.feature_extraction.text import TfidfVectorizer\n",
        "\n",
        "def tokens_to_text(tokens):\n",
        "    return ' '.join(tokens)\n",
        "\n",
        "preprocessed_texts_joined = [tokens_to_text(tokens) for tokens in preprocessed_texts]\n",
        "\n",
        "vectorizer = TfidfVectorizer()\n",
        "\n",
        "# Fit the vectorizer on the preprocessed texts and transform the texts to feature vectors\n",
        "tfidf_matrix = vectorizer.fit_transform(preprocessed_texts_joined)\n",
        "\n",
        "# Print the shape of the feature matrix\n",
        "print(f'TF-IDF feature matrix shape: {tfidf_matrix.shape}')\n"
      ],
      "metadata": {
        "colab": {
          "base_uri": "https://localhost:8080/"
        },
        "id": "sFARpngu40ZM",
        "outputId": "33fcd896-e700-4bff-89b3-a3590c53b6a0"
      },
      "execution_count": 18,
      "outputs": [
        {
          "output_type": "stream",
          "name": "stdout",
          "text": [
            "TF-IDF feature matrix shape: (4, 63)\n"
          ]
        }
      ]
    },
    {
      "cell_type": "code",
      "source": [
        "from nltk.sentiment import SentimentIntensityAnalyzer\n",
        "\n",
        "nltk.download('vader_lexicon')\n",
        "\n",
        "def get_sentiment(text):\n",
        "    sia = SentimentIntensityAnalyzer()\n",
        "    sentiment_score = sia.polarity_scores(text)\n",
        "    return sentiment_score\n",
        "\n",
        "sentiment_scores = [get_sentiment(text) for text in preprocessed_texts_joined]\n",
        "\n",
        "# Print the sentiment scores \n",
        "for i in range(len(news_texts)):\n",
        "    print(f'Article {i+1} sentiment: {sentiment_scores[i]}')"
      ],
      "metadata": {
        "colab": {
          "base_uri": "https://localhost:8080/"
        },
        "id": "i30jkMHN43xe",
        "outputId": "a219d692-33fe-4625-cb1b-357adda82a72"
      },
      "execution_count": 20,
      "outputs": [
        {
          "output_type": "stream",
          "name": "stdout",
          "text": [
            "Article 1 sentiment: {'neg': 0.0, 'neu': 1.0, 'pos': 0.0, 'compound': 0.0}\n",
            "Article 2 sentiment: {'neg': 0.0, 'neu': 0.692, 'pos': 0.308, 'compound': 0.8979}\n",
            "Article 3 sentiment: {'neg': 0.0, 'neu': 0.699, 'pos': 0.301, 'compound': 0.8979}\n",
            "Article 4 sentiment: {'neg': 0.0, 'neu': 0.895, 'pos': 0.105, 'compound': 0.5267}\n"
          ]
        },
        {
          "output_type": "stream",
          "name": "stderr",
          "text": [
            "[nltk_data] Downloading package vader_lexicon to /root/nltk_data...\n",
            "[nltk_data]   Package vader_lexicon is already up-to-date!\n"
          ]
        }
      ]
    },
    {
      "cell_type": "code",
      "source": [
        "#median compound computer\n",
        "\n",
        "median_compound = 0\n",
        "\n",
        "for score in sentiment_scores:\n",
        "    median_compound += score['compound']\n",
        "\n",
        "print(f\"Median Compound: {median_compound/len(news_texts)}\")\n",
        "if median_compound > 0:\n",
        "  print(\"Positive\")\n",
        "elif median_compound < 0:\n",
        "  print(\"Negative\")\n",
        "else:\n",
        "  print(\"Neutral\")"
      ],
      "metadata": {
        "colab": {
          "base_uri": "https://localhost:8080/"
        },
        "id": "zHDk5byL87Xk",
        "outputId": "318f1812-1ff2-46d8-ed69-aeea3de3f7d8"
      },
      "execution_count": 33,
      "outputs": [
        {
          "output_type": "stream",
          "name": "stdout",
          "text": [
            "Median Compound: 0.580625\n",
            "Positive\n"
          ]
        }
      ]
    }
  ]
}