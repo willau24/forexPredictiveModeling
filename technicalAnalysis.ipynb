{
 "cells": [
  {
   "cell_type": "code",
   "execution_count": 2,
   "id": "0ebd4996",
   "metadata": {},
   "outputs": [
    {
     "name": "stdout",
     "output_type": "stream",
     "text": [
      "    timestamp    open    high     low   close from_currency to_currency    {\n",
      "0  2023-04-14  0.9047  0.9111  0.9027  0.9093           USD         EUR  NaN\n",
      "1  2023-04-13  0.9096  0.9105  0.9033  0.9050           USD         EUR  NaN\n",
      "2  2023-04-12  0.9159  0.9161  0.9086  0.9094           USD         EUR  NaN\n",
      "3  2023-04-11  0.9203  0.9205  0.9149  0.9161           USD         EUR  NaN\n",
      "4  2023-04-10  0.9165  0.9229  0.9155  0.9205           USD         EUR  NaN\n"
     ]
    }
   ],
   "source": [
    "#AlphaVantage API key: ZAPAOIYTE4U33ASM\n",
    "\n",
    "import requests\n",
    "import pandas as pd\n",
    "from datetime import datetime, timedelta\n",
    "from io import StringIO\n",
    "\n",
    "api_key = \"ZAPAOIYTE4U33ASM\"\n",
    "base_url = \"https://www.alphavantage.co/query\"\n",
    "\n",
    "end_date = datetime.now().strftime('%Y-%m-%d')\n",
    "start_date = (datetime.now() - timedelta(days=1825)).strftime('%Y-%m-%d')\n",
    "\n",
    "base_currencies = ['USD', 'EUR', 'JPY', 'GBP', 'AUD', 'CAD', 'CHF', 'CNH']\n",
    "target_currencies = ['USD', 'EUR', 'JPY', 'GBP', 'AUD', 'CAD', 'CHF', 'CNH', 'CNY', 'HKD', 'SGD', 'SEK', 'KRW', 'NOK',\n",
    "                     'NZD', 'INR', 'MXN', 'TWD', 'ZAR', 'BRL', 'DKK', 'PLN', 'THB', 'ILS', 'IDR', 'CZK', 'AED', 'TRY',\n",
    "                     'HUF', 'CLP', 'SAR', 'PHP', 'MYR', 'COP', 'RUB', 'RON', 'PEN', 'BHD', 'BGN', 'ARS']\n",
    "\n",
    "dfs = []\n",
    "\n",
    "for base_currency in base_currencies:\n",
    "    for target_currency in target_currencies:\n",
    "        if base_currency == target_currency:\n",
    "            continue\n",
    "        params = {'function': 'FX_DAILY',\n",
    "                  'from_symbol': base_currency,\n",
    "                  'to_symbol': target_currency,\n",
    "                  'outputsize': 'compact',\n",
    "                  'datatype': 'csv',\n",
    "                  'apikey': api_key,\n",
    "                  'start_date': start_date,\n",
    "                  'end_date': end_date}\n",
    "        response = requests.get(base_url, params=params)\n",
    "        df = pd.read_csv(StringIO(response.text))\n",
    "        df['from_currency'] = base_currency\n",
    "        df['to_currency'] = target_currency\n",
    "        dfs.append(df)\n",
    "df = pd.concat(dfs)\n",
    "\n",
    "print(df.head())"
   ]
  },
  {
   "cell_type": "code",
   "execution_count": null,
   "id": "0f560a75",
   "metadata": {},
   "outputs": [],
   "source": []
  }
 ],
 "metadata": {
  "kernelspec": {
   "display_name": "Python 3 (ipykernel)",
   "language": "python",
   "name": "python3"
  },
  "language_info": {
   "codemirror_mode": {
    "name": "ipython",
    "version": 3
   },
   "file_extension": ".py",
   "mimetype": "text/x-python",
   "name": "python",
   "nbconvert_exporter": "python",
   "pygments_lexer": "ipython3",
   "version": "3.8.3"
  }
 },
 "nbformat": 4,
 "nbformat_minor": 5
}
